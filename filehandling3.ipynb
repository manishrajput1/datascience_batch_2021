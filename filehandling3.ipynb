{
 "cells": [
  {
   "cell_type": "code",
   "execution_count": 1,
   "id": "8a68fdec",
   "metadata": {},
   "outputs": [],
   "source": [
    "path='C:\\\\Users\\\\rmani\\\\Desktop\\\\test.txt'\n",
    "file=open(path)\n",
    "data=file.read()\n",
    "res=data.split('\\n')\n",
    "d=res[1:]\n",
    "head=res[0]\n",
    "re=[]\n",
    "for i in d:\n",
    "    j=i.split('\\t')\n",
    "    s=(sum(map(int,j[2:]))//3)\n",
    "    s=str(s)\n",
    "    j.append(s)\n",
    "    result='\\t'.join(j)\n",
    "    re.append(result)\n",
    "final='\\n'.join(re)\n",
    "head=head+'\\tpercent\\n'\n",
    "final_result=head+final\n",
    "import os\n",
    "filename=os.path.basename(path)\n",
    "dirname=os.path.dirname(path)\n",
    "filename=filename.split('.')\n",
    "newpath=filename[0]+'_result.'+filename[1]\n",
    "compath=dirname+'\\\\'+newpath\n",
    "f=open(compath,'w')\n",
    "f.write(final_result)\n",
    "f.close()"
   ]
  },
  {
   "cell_type": "markdown",
   "id": "90db0088",
   "metadata": {},
   "source": [
    "data=open('')"
   ]
  }
 ],
 "metadata": {
  "kernelspec": {
   "display_name": "Python 3 (ipykernel)",
   "language": "python",
   "name": "python3"
  },
  "language_info": {
   "codemirror_mode": {
    "name": "ipython",
    "version": 3
   },
   "file_extension": ".py",
   "mimetype": "text/x-python",
   "name": "python",
   "nbconvert_exporter": "python",
   "pygments_lexer": "ipython3",
   "version": "3.9.6"
  }
 },
 "nbformat": 4,
 "nbformat_minor": 5
}
