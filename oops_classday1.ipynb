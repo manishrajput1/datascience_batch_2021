{
 "cells": [
  {
   "cell_type": "markdown",
   "id": "f5a91956",
   "metadata": {},
   "source": [
    "            oops:\n",
    "                class ---> class is collection methods \n",
    "                methods ----> methods is nothing is just like function\n",
    "                object ----> object is a instance of class \n",
    "                "
   ]
  },
  {
   "cell_type": "code",
   "execution_count": 11,
   "id": "d42d9ffb",
   "metadata": {},
   "outputs": [],
   "source": [
    "\n",
    "class A():\n",
    "    def test():\n",
    "        print('hello world')"
   ]
  },
  {
   "cell_type": "code",
   "execution_count": 12,
   "id": "07b17056",
   "metadata": {},
   "outputs": [
    {
     "name": "stdout",
     "output_type": "stream",
     "text": [
      "hello world\n"
     ]
    }
   ],
   "source": [
    "A.test()"
   ]
  },
  {
   "cell_type": "code",
   "execution_count": 13,
   "id": "fa0ced57",
   "metadata": {},
   "outputs": [],
   "source": [
    "ob=A()"
   ]
  },
  {
   "cell_type": "code",
   "execution_count": 14,
   "id": "830e7bda",
   "metadata": {},
   "outputs": [
    {
     "name": "stdout",
     "output_type": "stream",
     "text": [
      "<__main__.A object at 0x00000172907ED670>\n"
     ]
    }
   ],
   "source": [
    "print(ob)"
   ]
  },
  {
   "cell_type": "code",
   "execution_count": 15,
   "id": "efbb2a63",
   "metadata": {},
   "outputs": [
    {
     "name": "stdout",
     "output_type": "stream",
     "text": [
      "['__class__', '__delattr__', '__dict__', '__dir__', '__doc__', '__eq__', '__format__', '__ge__', '__getattribute__', '__gt__', '__hash__', '__init__', '__init_subclass__', '__le__', '__lt__', '__module__', '__ne__', '__new__', '__reduce__', '__reduce_ex__', '__repr__', '__setattr__', '__sizeof__', '__str__', '__subclasshook__', '__weakref__', 'test']\n"
     ]
    }
   ],
   "source": [
    "print(dir(ob))"
   ]
  },
  {
   "cell_type": "code",
   "execution_count": 16,
   "id": "dafcf089",
   "metadata": {},
   "outputs": [
    {
     "ename": "TypeError",
     "evalue": "test() takes 0 positional arguments but 1 was given",
     "output_type": "error",
     "traceback": [
      "\u001b[1;31m---------------------------------------------------------------------------\u001b[0m",
      "\u001b[1;31mTypeError\u001b[0m                                 Traceback (most recent call last)",
      "\u001b[1;32m~\\AppData\\Local\\Temp/ipykernel_13564/51508029.py\u001b[0m in \u001b[0;36m<module>\u001b[1;34m\u001b[0m\n\u001b[1;32m----> 1\u001b[1;33m \u001b[0mob\u001b[0m\u001b[1;33m.\u001b[0m\u001b[0mtest\u001b[0m\u001b[1;33m(\u001b[0m\u001b[1;33m)\u001b[0m\u001b[1;33m\u001b[0m\u001b[1;33m\u001b[0m\u001b[0m\n\u001b[0m",
      "\u001b[1;31mTypeError\u001b[0m: test() takes 0 positional arguments but 1 was given"
     ]
    }
   ],
   "source": [
    "ob.test()"
   ]
  },
  {
   "cell_type": "code",
   "execution_count": 17,
   "id": "0f1aea1f",
   "metadata": {},
   "outputs": [],
   "source": [
    "class demo:\n",
    "    def get(a):\n",
    "        print('a: ',a)\n",
    "        "
   ]
  },
  {
   "cell_type": "code",
   "execution_count": 18,
   "id": "2742327b",
   "metadata": {},
   "outputs": [],
   "source": [
    "obj=demo()"
   ]
  },
  {
   "cell_type": "code",
   "execution_count": 19,
   "id": "f87e2d39",
   "metadata": {},
   "outputs": [
    {
     "name": "stdout",
     "output_type": "stream",
     "text": [
      "<__main__.demo object at 0x0000017290702910>\n"
     ]
    }
   ],
   "source": [
    "print(obj)"
   ]
  },
  {
   "cell_type": "code",
   "execution_count": 20,
   "id": "7569cf9d",
   "metadata": {},
   "outputs": [
    {
     "name": "stdout",
     "output_type": "stream",
     "text": [
      "a:  <__main__.demo object at 0x0000017290702910>\n"
     ]
    }
   ],
   "source": [
    "obj.get()"
   ]
  },
  {
   "cell_type": "code",
   "execution_count": 31,
   "id": "9d235051",
   "metadata": {},
   "outputs": [],
   "source": [
    "class test():\n",
    "    def get(self,name,age):\n",
    "        print('self: ',self)\n",
    "        print('hello : ',name)\n",
    "        print('your age : ',age)"
   ]
  },
  {
   "cell_type": "code",
   "execution_count": 32,
   "id": "726630f4",
   "metadata": {},
   "outputs": [],
   "source": [
    "o=test()"
   ]
  },
  {
   "cell_type": "code",
   "execution_count": 33,
   "id": "231c5309",
   "metadata": {},
   "outputs": [
    {
     "name": "stdout",
     "output_type": "stream",
     "text": [
      "self:  <__main__.test object at 0x00000172907ED6A0>\n",
      "hello :  manish\n",
      "your age :  23\n"
     ]
    }
   ],
   "source": [
    "o.get('manish',23)"
   ]
  },
  {
   "cell_type": "code",
   "execution_count": 34,
   "id": "fe3bbcef",
   "metadata": {},
   "outputs": [
    {
     "name": "stdout",
     "output_type": "stream",
     "text": [
      "['__class__', '__delattr__', '__dict__', '__dir__', '__doc__', '__eq__', '__format__', '__ge__', '__getattribute__', '__gt__', '__hash__', '__init__', '__init_subclass__', '__le__', '__lt__', '__module__', '__ne__', '__new__', '__reduce__', '__reduce_ex__', '__repr__', '__setattr__', '__sizeof__', '__str__', '__subclasshook__', '__weakref__', 'get']\n"
     ]
    }
   ],
   "source": [
    "print(dir(o))"
   ]
  },
  {
   "cell_type": "code",
   "execution_count": 40,
   "id": "0136527c",
   "metadata": {},
   "outputs": [],
   "source": [
    "class testing:\n",
    "    name='manish'\n",
    "    age=23\n",
    "    def getinfo(self):\n",
    "        self.email='rmanish911@gmail'\n",
    "        self.ph_no=9166319212"
   ]
  },
  {
   "cell_type": "code",
   "execution_count": 41,
   "id": "c4029fda",
   "metadata": {},
   "outputs": [],
   "source": [
    "obj=testing()"
   ]
  },
  {
   "cell_type": "code",
   "execution_count": 42,
   "id": "a2e00d16",
   "metadata": {},
   "outputs": [],
   "source": [
    "obj.getinfo()"
   ]
  },
  {
   "cell_type": "code",
   "execution_count": 43,
   "id": "fa9fa64d",
   "metadata": {},
   "outputs": [
    {
     "name": "stdout",
     "output_type": "stream",
     "text": [
      "['__class__', '__delattr__', '__dict__', '__dir__', '__doc__', '__eq__', '__format__', '__ge__', '__getattribute__', '__gt__', '__hash__', '__init__', '__init_subclass__', '__le__', '__lt__', '__module__', '__ne__', '__new__', '__reduce__', '__reduce_ex__', '__repr__', '__setattr__', '__sizeof__', '__str__', '__subclasshook__', '__weakref__', 'age', 'email', 'getinfo', 'name', 'ph_no']\n"
     ]
    }
   ],
   "source": [
    "print(dir(obj))"
   ]
  },
  {
   "cell_type": "code",
   "execution_count": 44,
   "id": "9c38e20b",
   "metadata": {},
   "outputs": [],
   "source": [
    "class hello:\n",
    "    def get(self):\n",
    "        name='manish'\n",
    "        "
   ]
  },
  {
   "cell_type": "code",
   "execution_count": 45,
   "id": "770682e3",
   "metadata": {},
   "outputs": [],
   "source": [
    "obj=hello()"
   ]
  },
  {
   "cell_type": "code",
   "execution_count": 46,
   "id": "d38f4a86",
   "metadata": {},
   "outputs": [
    {
     "name": "stdout",
     "output_type": "stream",
     "text": [
      "['__class__', '__delattr__', '__dict__', '__dir__', '__doc__', '__eq__', '__format__', '__ge__', '__getattribute__', '__gt__', '__hash__', '__init__', '__init_subclass__', '__le__', '__lt__', '__module__', '__ne__', '__new__', '__reduce__', '__reduce_ex__', '__repr__', '__setattr__', '__sizeof__', '__str__', '__subclasshook__', '__weakref__', 'get']\n"
     ]
    }
   ],
   "source": [
    "print(dir(obj))"
   ]
  },
  {
   "cell_type": "code",
   "execution_count": 47,
   "id": "2506a8b5",
   "metadata": {},
   "outputs": [
    {
     "data": {
      "text/plain": [
       "<__main__.hello at 0x172908c5d30>"
      ]
     },
     "execution_count": 47,
     "metadata": {},
     "output_type": "execute_result"
    }
   ],
   "source": [
    "obj"
   ]
  },
  {
   "cell_type": "code",
   "execution_count": 48,
   "id": "e6608bf3",
   "metadata": {},
   "outputs": [],
   "source": [
    "obj.email='rmanish'"
   ]
  },
  {
   "cell_type": "code",
   "execution_count": 49,
   "id": "200394f0",
   "metadata": {},
   "outputs": [
    {
     "name": "stdout",
     "output_type": "stream",
     "text": [
      "['__class__', '__delattr__', '__dict__', '__dir__', '__doc__', '__eq__', '__format__', '__ge__', '__getattribute__', '__gt__', '__hash__', '__init__', '__init_subclass__', '__le__', '__lt__', '__module__', '__ne__', '__new__', '__reduce__', '__reduce_ex__', '__repr__', '__setattr__', '__sizeof__', '__str__', '__subclasshook__', '__weakref__', 'email', 'get']\n"
     ]
    }
   ],
   "source": [
    "print(dir(obj))"
   ]
  },
  {
   "cell_type": "code",
   "execution_count": 50,
   "id": "c19127b1",
   "metadata": {},
   "outputs": [
    {
     "name": "stdout",
     "output_type": "stream",
     "text": [
      "rmanish\n"
     ]
    }
   ],
   "source": [
    "print(obj.email)"
   ]
  },
  {
   "cell_type": "code",
   "execution_count": 52,
   "id": "e10a21c7",
   "metadata": {},
   "outputs": [
    {
     "name": "stdout",
     "output_type": "stream",
     "text": [
      "{'email': 'rmanish'}\n"
     ]
    }
   ],
   "source": [
    "print(obj.__dict__)"
   ]
  },
  {
   "cell_type": "code",
   "execution_count": 53,
   "id": "553bc3be",
   "metadata": {},
   "outputs": [],
   "source": [
    "obj.ph_no=9166319212"
   ]
  },
  {
   "cell_type": "code",
   "execution_count": 57,
   "id": "e1093ccf",
   "metadata": {},
   "outputs": [
    {
     "name": "stdout",
     "output_type": "stream",
     "text": [
      "dict_values(['rmanish', 9166319212])\n"
     ]
    }
   ],
   "source": [
    "print(obj.__dict__.values())"
   ]
  },
  {
   "cell_type": "code",
   "execution_count": 59,
   "id": "f9d46444",
   "metadata": {},
   "outputs": [
    {
     "data": {
      "text/plain": [
       "'rmanish'"
      ]
     },
     "execution_count": 59,
     "metadata": {},
     "output_type": "execute_result"
    }
   ],
   "source": [
    "obj.email="
   ]
  },
  {
   "cell_type": "code",
   "execution_count": 60,
   "id": "3fe60851",
   "metadata": {},
   "outputs": [],
   "source": [
    "class test:\n",
    "    def getinfo(self):\n",
    "        self.name='manish'\n",
    "        self.course='python'"
   ]
  },
  {
   "cell_type": "code",
   "execution_count": 61,
   "id": "154b1633",
   "metadata": {},
   "outputs": [],
   "source": [
    "ob=test()\n",
    "ob1=test()\n",
    "ob2=test()"
   ]
  },
  {
   "cell_type": "code",
   "execution_count": 62,
   "id": "9cb78aac",
   "metadata": {},
   "outputs": [],
   "source": [
    "ob.getinfo()\n",
    "ob1.getinfo()\n",
    "ob2.getinfo()"
   ]
  },
  {
   "cell_type": "code",
   "execution_count": 63,
   "id": "bd586a3c",
   "metadata": {},
   "outputs": [
    {
     "data": {
      "text/plain": [
       "'manish'"
      ]
     },
     "execution_count": 63,
     "metadata": {},
     "output_type": "execute_result"
    }
   ],
   "source": [
    "ob.name"
   ]
  },
  {
   "cell_type": "code",
   "execution_count": 64,
   "id": "81129ef7",
   "metadata": {},
   "outputs": [
    {
     "data": {
      "text/plain": [
       "'python'"
      ]
     },
     "execution_count": 64,
     "metadata": {},
     "output_type": "execute_result"
    }
   ],
   "source": [
    "ob.course"
   ]
  },
  {
   "cell_type": "code",
   "execution_count": 66,
   "id": "8335e57d",
   "metadata": {},
   "outputs": [],
   "source": [
    "ob1.name='shan'"
   ]
  },
  {
   "cell_type": "code",
   "execution_count": 68,
   "id": "6b5cf9e8",
   "metadata": {},
   "outputs": [],
   "source": [
    "ob1.course='cloud'"
   ]
  },
  {
   "cell_type": "code",
   "execution_count": 69,
   "id": "459ce314",
   "metadata": {},
   "outputs": [
    {
     "data": {
      "text/plain": [
       "'manish'"
      ]
     },
     "execution_count": 69,
     "metadata": {},
     "output_type": "execute_result"
    }
   ],
   "source": [
    "ob.name"
   ]
  },
  {
   "cell_type": "code",
   "execution_count": 70,
   "id": "9815fbe5",
   "metadata": {},
   "outputs": [
    {
     "data": {
      "text/plain": [
       "'shan'"
      ]
     },
     "execution_count": 70,
     "metadata": {},
     "output_type": "execute_result"
    }
   ],
   "source": [
    "ob1.name"
   ]
  },
  {
   "cell_type": "code",
   "execution_count": 71,
   "id": "77423384",
   "metadata": {},
   "outputs": [],
   "source": [
    "ob1.ph_no=9177678676"
   ]
  },
  {
   "cell_type": "code",
   "execution_count": 72,
   "id": "c30cc87b",
   "metadata": {},
   "outputs": [
    {
     "data": {
      "text/plain": [
       "{'name': 'manish', 'course': 'python'}"
      ]
     },
     "execution_count": 72,
     "metadata": {},
     "output_type": "execute_result"
    }
   ],
   "source": [
    "ob.__dict__"
   ]
  },
  {
   "cell_type": "code",
   "execution_count": 73,
   "id": "f2fbc179",
   "metadata": {},
   "outputs": [
    {
     "data": {
      "text/plain": [
       "{'name': 'shan', 'course': 'cloud', 'ph_no': 9177678676}"
      ]
     },
     "execution_count": 73,
     "metadata": {},
     "output_type": "execute_result"
    }
   ],
   "source": [
    "ob1.__dict__"
   ]
  },
  {
   "cell_type": "code",
   "execution_count": 74,
   "id": "6ad2be3e",
   "metadata": {},
   "outputs": [
    {
     "data": {
      "text/plain": [
       "{'name': 'manish', 'course': 'python'}"
      ]
     },
     "execution_count": 74,
     "metadata": {},
     "output_type": "execute_result"
    }
   ],
   "source": [
    "ob2.__dict__"
   ]
  },
  {
   "cell_type": "code",
   "execution_count": 75,
   "id": "290c9a0d",
   "metadata": {},
   "outputs": [],
   "source": [
    "ob2.name='shahrukh'"
   ]
  },
  {
   "cell_type": "code",
   "execution_count": 76,
   "id": "54d0b86e",
   "metadata": {},
   "outputs": [
    {
     "data": {
      "text/plain": [
       "{'name': 'shahrukh', 'course': 'python'}"
      ]
     },
     "execution_count": 76,
     "metadata": {},
     "output_type": "execute_result"
    }
   ],
   "source": [
    "ob2.__dict__"
   ]
  },
  {
   "cell_type": "code",
   "execution_count": 77,
   "id": "ec807224",
   "metadata": {},
   "outputs": [
    {
     "name": "stdout",
     "output_type": "stream",
     "text": [
      "['__add__', '__class__', '__contains__', '__delattr__', '__dir__', '__doc__', '__eq__', '__format__', '__ge__', '__getattribute__', '__getitem__', '__getnewargs__', '__gt__', '__hash__', '__init__', '__init_subclass__', '__iter__', '__le__', '__len__', '__lt__', '__mod__', '__mul__', '__ne__', '__new__', '__reduce__', '__reduce_ex__', '__repr__', '__rmod__', '__rmul__', '__setattr__', '__sizeof__', '__str__', '__subclasshook__', 'capitalize', 'casefold', 'center', 'count', 'encode', 'endswith', 'expandtabs', 'find', 'format', 'format_map', 'index', 'isalnum', 'isalpha', 'isascii', 'isdecimal', 'isdigit', 'isidentifier', 'islower', 'isnumeric', 'isprintable', 'isspace', 'istitle', 'isupper', 'join', 'ljust', 'lower', 'lstrip', 'maketrans', 'partition', 'removeprefix', 'removesuffix', 'replace', 'rfind', 'rindex', 'rjust', 'rpartition', 'rsplit', 'rstrip', 'split', 'splitlines', 'startswith', 'strip', 'swapcase', 'title', 'translate', 'upper', 'zfill']\n"
     ]
    }
   ],
   "source": [
    "print(dir(str))"
   ]
  },
  {
   "cell_type": "code",
   "execution_count": 78,
   "id": "38791630",
   "metadata": {},
   "outputs": [],
   "source": [
    "l=[1,32,4,5]"
   ]
  },
  {
   "cell_type": "code",
   "execution_count": 80,
   "id": "0d743321",
   "metadata": {},
   "outputs": [
    {
     "data": {
      "text/plain": [
       "4"
      ]
     },
     "execution_count": 80,
     "metadata": {},
     "output_type": "execute_result"
    }
   ],
   "source": [
    "l.__len__()"
   ]
  },
  {
   "cell_type": "code",
   "execution_count": 81,
   "id": "96be78f4",
   "metadata": {},
   "outputs": [],
   "source": [
    "class robot:\n",
    "    def get(self):\n",
    "        self.name='mann'\n",
    "        self.email='rmanish'\n",
    "    def get1(self):\n",
    "        self.name='shan'\n",
    "        self.course='python'\n",
    "    def get2(self):\n",
    "        self.name='shahrukh'\n",
    "        self.ph_no=879897687"
   ]
  },
  {
   "cell_type": "code",
   "execution_count": 82,
   "id": "591645ec",
   "metadata": {},
   "outputs": [],
   "source": [
    "ob=robot()"
   ]
  },
  {
   "cell_type": "code",
   "execution_count": 83,
   "id": "000d91d4",
   "metadata": {},
   "outputs": [],
   "source": [
    "ob.get()"
   ]
  },
  {
   "cell_type": "code",
   "execution_count": 84,
   "id": "7b19cbe8",
   "metadata": {},
   "outputs": [
    {
     "data": {
      "text/plain": [
       "'mann'"
      ]
     },
     "execution_count": 84,
     "metadata": {},
     "output_type": "execute_result"
    }
   ],
   "source": [
    "ob.name"
   ]
  },
  {
   "cell_type": "code",
   "execution_count": 85,
   "id": "2ee71c91",
   "metadata": {},
   "outputs": [
    {
     "data": {
      "text/plain": [
       "'rmanish'"
      ]
     },
     "execution_count": 85,
     "metadata": {},
     "output_type": "execute_result"
    }
   ],
   "source": [
    "ob.email"
   ]
  },
  {
   "cell_type": "code",
   "execution_count": 86,
   "id": "1fe54231",
   "metadata": {},
   "outputs": [],
   "source": [
    "ob1=robot()"
   ]
  },
  {
   "cell_type": "code",
   "execution_count": 88,
   "id": "e4839c3d",
   "metadata": {},
   "outputs": [],
   "source": [
    "ob1.get1()"
   ]
  },
  {
   "cell_type": "code",
   "execution_count": 89,
   "id": "2bf64cbc",
   "metadata": {},
   "outputs": [
    {
     "data": {
      "text/plain": [
       "'shan'"
      ]
     },
     "execution_count": 89,
     "metadata": {},
     "output_type": "execute_result"
    }
   ],
   "source": [
    "ob1.name"
   ]
  },
  {
   "cell_type": "markdown",
   "id": "02043444",
   "metadata": {},
   "source": []
  },
  {
   "cell_type": "code",
   "execution_count": 90,
   "id": "b09ecade",
   "metadata": {},
   "outputs": [],
   "source": [
    "ob1.get()"
   ]
  },
  {
   "cell_type": "code",
   "execution_count": 91,
   "id": "3ea47c2c",
   "metadata": {},
   "outputs": [
    {
     "data": {
      "text/plain": [
       "'mann'"
      ]
     },
     "execution_count": 91,
     "metadata": {},
     "output_type": "execute_result"
    }
   ],
   "source": [
    "ob1.name"
   ]
  },
  {
   "cell_type": "code",
   "execution_count": 97,
   "id": "9847c1ad",
   "metadata": {},
   "outputs": [],
   "source": [
    "class robot:\n",
    "    def get(self):\n",
    "        name='mann'\n",
    "        email='rmanish'\n",
    "        print(name)\n",
    "    def get1(self):\n",
    "        name='shan'\n",
    "        course='python'\n",
    "        print(name)\n",
    "    def get2(self):\n",
    "        self.name='shahrukh'\n",
    "        self.ph_no=879897687"
   ]
  },
  {
   "cell_type": "code",
   "execution_count": 98,
   "id": "a2a2be5e",
   "metadata": {},
   "outputs": [],
   "source": [
    "ob=robot()"
   ]
  },
  {
   "cell_type": "code",
   "execution_count": 99,
   "id": "8e250cad",
   "metadata": {},
   "outputs": [
    {
     "name": "stdout",
     "output_type": "stream",
     "text": [
      "mann\n"
     ]
    }
   ],
   "source": [
    "ob.get()"
   ]
  },
  {
   "cell_type": "code",
   "execution_count": 100,
   "id": "cdde0424",
   "metadata": {},
   "outputs": [
    {
     "name": "stdout",
     "output_type": "stream",
     "text": [
      "shan\n"
     ]
    }
   ],
   "source": [
    "ob.get1()"
   ]
  },
  {
   "cell_type": "code",
   "execution_count": 101,
   "id": "e519f4a7",
   "metadata": {},
   "outputs": [
    {
     "name": "stdout",
     "output_type": "stream",
     "text": [
      "mann\n"
     ]
    }
   ],
   "source": [
    "ob.get()"
   ]
  },
  {
   "cell_type": "code",
   "execution_count": 108,
   "id": "38633e43",
   "metadata": {},
   "outputs": [],
   "source": [
    "class hello():\n",
    "    name='manish'\n",
    "    course ='python'\n",
    "    def get(self):\n",
    "        print('hello world')\n",
    "        \n",
    "# here name and course are public variable"
   ]
  },
  {
   "cell_type": "code",
   "execution_count": 103,
   "id": "f903c360",
   "metadata": {},
   "outputs": [],
   "source": [
    "class b:\n",
    "    def test(self):\n",
    "        print(hello.name)\n",
    "        print(hello.course)\n",
    "        "
   ]
  },
  {
   "cell_type": "code",
   "execution_count": 104,
   "id": "cd5b9e93",
   "metadata": {},
   "outputs": [],
   "source": [
    "ob=hello()"
   ]
  },
  {
   "cell_type": "code",
   "execution_count": 105,
   "id": "90d2aa3d",
   "metadata": {},
   "outputs": [],
   "source": [
    "ob1=b()"
   ]
  },
  {
   "cell_type": "code",
   "execution_count": 106,
   "id": "0b68f83f",
   "metadata": {},
   "outputs": [
    {
     "name": "stdout",
     "output_type": "stream",
     "text": [
      "manish\n",
      "python\n"
     ]
    }
   ],
   "source": [
    "ob1.test()"
   ]
  },
  {
   "cell_type": "code",
   "execution_count": 107,
   "id": "5231acd6",
   "metadata": {},
   "outputs": [
    {
     "data": {
      "text/plain": [
       "'manish'"
      ]
     },
     "execution_count": 107,
     "metadata": {},
     "output_type": "execute_result"
    }
   ],
   "source": [
    "hello.name"
   ]
  },
  {
   "cell_type": "code",
   "execution_count": 115,
   "id": "40eb360f",
   "metadata": {},
   "outputs": [],
   "source": [
    "class sec():\n",
    "    _abc='kuch bhi'\n",
    "    _test='hahaha'\n",
    "    def get(self):\n",
    "        print('ha ha ha ')\n",
    "# here _abc and _test are protected"
   ]
  },
  {
   "cell_type": "code",
   "execution_count": 111,
   "id": "73c21190",
   "metadata": {},
   "outputs": [],
   "source": [
    "class car:\n",
    "    def show(self):\n",
    "        print(sec._abc)\n",
    "        print(sec._test)"
   ]
  },
  {
   "cell_type": "code",
   "execution_count": 112,
   "id": "196d63cd",
   "metadata": {},
   "outputs": [],
   "source": [
    "ob=sec()"
   ]
  },
  {
   "cell_type": "code",
   "execution_count": 113,
   "id": "bb9c7439",
   "metadata": {},
   "outputs": [],
   "source": [
    "obj=car()"
   ]
  },
  {
   "cell_type": "code",
   "execution_count": 114,
   "id": "e9e179a2",
   "metadata": {},
   "outputs": [
    {
     "name": "stdout",
     "output_type": "stream",
     "text": [
      "kuch bhi\n",
      "hahaha\n"
     ]
    }
   ],
   "source": [
    "obj.show()"
   ]
  },
  {
   "cell_type": "code",
   "execution_count": 116,
   "id": "132a9dae",
   "metadata": {},
   "outputs": [],
   "source": [
    "class A:\n",
    "    __xyz='what happend'\n",
    "    __name='manish rajput'\n",
    "    def show(self):\n",
    "        'rmanish'\n",
    "        print(A.__xyz)\n",
    "        print(A.__name)\n",
    "    def get(self):\n",
    "        print('something')\n",
    "# __xyz and __name are private variable"
   ]
  },
  {
   "cell_type": "code",
   "execution_count": 117,
   "id": "4354c6e2",
   "metadata": {},
   "outputs": [],
   "source": [
    "class B:\n",
    "    def showdata(self):\n",
    "        print(A.__xyz)\n",
    "        print(A.__name)"
   ]
  },
  {
   "cell_type": "code",
   "execution_count": 118,
   "id": "0df91d4b",
   "metadata": {},
   "outputs": [],
   "source": [
    "ob=A()"
   ]
  },
  {
   "cell_type": "code",
   "execution_count": 122,
   "id": "b1f91ac4",
   "metadata": {},
   "outputs": [],
   "source": [
    "ob=B()"
   ]
  },
  {
   "cell_type": "code",
   "execution_count": 123,
   "id": "ea32b419",
   "metadata": {},
   "outputs": [
    {
     "ename": "AttributeError",
     "evalue": "'B' object has no attribute 'show'",
     "output_type": "error",
     "traceback": [
      "\u001b[1;31m---------------------------------------------------------------------------\u001b[0m",
      "\u001b[1;31mAttributeError\u001b[0m                            Traceback (most recent call last)",
      "\u001b[1;32m~\\AppData\\Local\\Temp/ipykernel_13564/632153837.py\u001b[0m in \u001b[0;36m<module>\u001b[1;34m\u001b[0m\n\u001b[1;32m----> 1\u001b[1;33m \u001b[0mob\u001b[0m\u001b[1;33m.\u001b[0m\u001b[0mshow\u001b[0m\u001b[1;33m(\u001b[0m\u001b[1;33m)\u001b[0m\u001b[1;33m\u001b[0m\u001b[1;33m\u001b[0m\u001b[0m\n\u001b[0m",
      "\u001b[1;31mAttributeError\u001b[0m: 'B' object has no attribute 'show'"
     ]
    }
   ],
   "source": [
    "ob.show()"
   ]
  },
  {
   "cell_type": "code",
   "execution_count": 121,
   "id": "cd85fb6b",
   "metadata": {},
   "outputs": [
    {
     "ename": "AttributeError",
     "evalue": "type object 'A' has no attribute '_B__xyz'",
     "output_type": "error",
     "traceback": [
      "\u001b[1;31m---------------------------------------------------------------------------\u001b[0m",
      "\u001b[1;31mAttributeError\u001b[0m                            Traceback (most recent call last)",
      "\u001b[1;32m~\\AppData\\Local\\Temp/ipykernel_13564/994957674.py\u001b[0m in \u001b[0;36m<module>\u001b[1;34m\u001b[0m\n\u001b[1;32m----> 1\u001b[1;33m \u001b[0mobj\u001b[0m\u001b[1;33m.\u001b[0m\u001b[0mshowdata\u001b[0m\u001b[1;33m(\u001b[0m\u001b[1;33m)\u001b[0m\u001b[1;33m\u001b[0m\u001b[1;33m\u001b[0m\u001b[0m\n\u001b[0m",
      "\u001b[1;32m~\\AppData\\Local\\Temp/ipykernel_13564/3648455655.py\u001b[0m in \u001b[0;36mshowdata\u001b[1;34m(self)\u001b[0m\n\u001b[0;32m      1\u001b[0m \u001b[1;32mclass\u001b[0m \u001b[0mB\u001b[0m\u001b[1;33m:\u001b[0m\u001b[1;33m\u001b[0m\u001b[1;33m\u001b[0m\u001b[0m\n\u001b[0;32m      2\u001b[0m     \u001b[1;32mdef\u001b[0m \u001b[0mshowdata\u001b[0m\u001b[1;33m(\u001b[0m\u001b[0mself\u001b[0m\u001b[1;33m)\u001b[0m\u001b[1;33m:\u001b[0m\u001b[1;33m\u001b[0m\u001b[1;33m\u001b[0m\u001b[0m\n\u001b[1;32m----> 3\u001b[1;33m         \u001b[0mprint\u001b[0m\u001b[1;33m(\u001b[0m\u001b[0mA\u001b[0m\u001b[1;33m.\u001b[0m\u001b[0m__xyz\u001b[0m\u001b[1;33m)\u001b[0m\u001b[1;33m\u001b[0m\u001b[1;33m\u001b[0m\u001b[0m\n\u001b[0m\u001b[0;32m      4\u001b[0m         \u001b[0mprint\u001b[0m\u001b[1;33m(\u001b[0m\u001b[0mA\u001b[0m\u001b[1;33m.\u001b[0m\u001b[0m__name\u001b[0m\u001b[1;33m)\u001b[0m\u001b[1;33m\u001b[0m\u001b[1;33m\u001b[0m\u001b[0m\n",
      "\u001b[1;31mAttributeError\u001b[0m: type object 'A' has no attribute '_B__xyz'"
     ]
    }
   ],
   "source": [
    "obj.showdata()"
   ]
  },
  {
   "cell_type": "code",
   "execution_count": 130,
   "id": "a2f46584",
   "metadata": {},
   "outputs": [],
   "source": [
    "class test1:\n",
    "    def getinfo(self,name,course):\n",
    "        self.name=name\n",
    "        self.course=course\n",
    "    def showinfo(self):\n",
    "        print('trainer name : ',self.name)\n",
    "        print('course name: ',self.course)"
   ]
  },
  {
   "cell_type": "code",
   "execution_count": 131,
   "id": "6108efc9",
   "metadata": {},
   "outputs": [],
   "source": [
    "ob=test1()"
   ]
  },
  {
   "cell_type": "code",
   "execution_count": 132,
   "id": "3d50d919",
   "metadata": {},
   "outputs": [
    {
     "name": "stdout",
     "output_type": "stream",
     "text": [
      "['__class__', '__delattr__', '__dict__', '__dir__', '__doc__', '__eq__', '__format__', '__ge__', '__getattribute__', '__gt__', '__hash__', '__init__', '__init_subclass__', '__le__', '__lt__', '__module__', '__ne__', '__new__', '__reduce__', '__reduce_ex__', '__repr__', '__setattr__', '__sizeof__', '__str__', '__subclasshook__', '__weakref__', 'getinfo', 'showinfo']\n"
     ]
    }
   ],
   "source": [
    "print(dir(ob))"
   ]
  },
  {
   "cell_type": "code",
   "execution_count": 133,
   "id": "3cd0477d",
   "metadata": {},
   "outputs": [],
   "source": [
    "ob.getinfo('manish','Data science')"
   ]
  },
  {
   "cell_type": "code",
   "execution_count": 134,
   "id": "687653ed",
   "metadata": {},
   "outputs": [
    {
     "name": "stdout",
     "output_type": "stream",
     "text": [
      "['__class__', '__delattr__', '__dict__', '__dir__', '__doc__', '__eq__', '__format__', '__ge__', '__getattribute__', '__gt__', '__hash__', '__init__', '__init_subclass__', '__le__', '__lt__', '__module__', '__ne__', '__new__', '__reduce__', '__reduce_ex__', '__repr__', '__setattr__', '__sizeof__', '__str__', '__subclasshook__', '__weakref__', 'course', 'getinfo', 'name', 'showinfo']\n"
     ]
    }
   ],
   "source": [
    "print(dir(ob))"
   ]
  },
  {
   "cell_type": "code",
   "execution_count": 135,
   "id": "d5c3cb97",
   "metadata": {},
   "outputs": [
    {
     "name": "stdout",
     "output_type": "stream",
     "text": [
      "trainer name :  manish\n",
      "course name:  Data science\n"
     ]
    }
   ],
   "source": [
    "ob.showinfo()"
   ]
  },
  {
   "cell_type": "code",
   "execution_count": 136,
   "id": "079ede76",
   "metadata": {},
   "outputs": [],
   "source": [
    "# constructor"
   ]
  },
  {
   "cell_type": "code",
   "execution_count": 138,
   "id": "47ae9cde",
   "metadata": {},
   "outputs": [],
   "source": [
    "class robot:\n",
    "    def __init__(self,name,cls):\n",
    "        self.name=name\n",
    "        self.cls=cls\n",
    "    def show(self):\n",
    "        print('username: ',self.name)\n",
    "        print('user class : ',self.cls)"
   ]
  },
  {
   "cell_type": "code",
   "execution_count": 140,
   "id": "73dfb2fe",
   "metadata": {},
   "outputs": [],
   "source": [
    "obj=robot('manish','M.S')"
   ]
  },
  {
   "cell_type": "code",
   "execution_count": 141,
   "id": "4fa70e55",
   "metadata": {},
   "outputs": [
    {
     "name": "stdout",
     "output_type": "stream",
     "text": [
      "username:  manish\n",
      "user class :  M.S\n"
     ]
    }
   ],
   "source": [
    "obj.show()"
   ]
  },
  {
   "cell_type": "code",
   "execution_count": 142,
   "id": "1daa44fa",
   "metadata": {},
   "outputs": [
    {
     "name": "stdout",
     "output_type": "stream",
     "text": [
      "<__main__.robot object at 0x00000172907ED940>\n"
     ]
    }
   ],
   "source": [
    "print(obj)"
   ]
  },
  {
   "cell_type": "code",
   "execution_count": 147,
   "id": "be7035e8",
   "metadata": {},
   "outputs": [],
   "source": [
    "class test:\n",
    "    def __init__(self):\n",
    "        self.name='manish rajput'\n",
    "    def show(self):\n",
    "        print(f'hello i am {self.name}')\n",
    "    def __str__(self):\n",
    "        return 'hello i am magic method...do you understand....'\n",
    "        "
   ]
  },
  {
   "cell_type": "code",
   "execution_count": 148,
   "id": "46233a9e",
   "metadata": {},
   "outputs": [],
   "source": [
    "o=test()"
   ]
  },
  {
   "cell_type": "code",
   "execution_count": 149,
   "id": "63b0d320",
   "metadata": {},
   "outputs": [
    {
     "name": "stdout",
     "output_type": "stream",
     "text": [
      "hello i am manish rajput\n"
     ]
    }
   ],
   "source": [
    "o.show()"
   ]
  },
  {
   "cell_type": "code",
   "execution_count": 150,
   "id": "6fbfc241",
   "metadata": {},
   "outputs": [
    {
     "name": "stdout",
     "output_type": "stream",
     "text": [
      "hello i am magic method...do you understand....\n"
     ]
    }
   ],
   "source": [
    "print(o)"
   ]
  },
  {
   "cell_type": "code",
   "execution_count": 151,
   "id": "5a5921c0",
   "metadata": {},
   "outputs": [
    {
     "data": {
      "text/plain": [
       "<__main__.test at 0x172907eda00>"
      ]
     },
     "execution_count": 151,
     "metadata": {},
     "output_type": "execute_result"
    }
   ],
   "source": [
    "o"
   ]
  },
  {
   "cell_type": "code",
   "execution_count": 152,
   "id": "53e66bc1",
   "metadata": {},
   "outputs": [
    {
     "name": "stdout",
     "output_type": "stream",
     "text": [
      "hello i am magic method...do you understand....\n"
     ]
    }
   ],
   "source": [
    "print(o)"
   ]
  },
  {
   "cell_type": "code",
   "execution_count": 170,
   "id": "e4b01fd5",
   "metadata": {},
   "outputs": [],
   "source": [
    "class car:\n",
    "    def __init__(self):\n",
    "        self.name='manish'\n",
    "    def show (self):\n",
    "        self.course='python'\n",
    "        print('hello i am show method')\n",
    "        del self\n",
    "    def __str__(self):\n",
    "        \n",
    "        print(' i am string method')\n",
    "    def __del__(self):\n",
    "        print('deleting object')\n",
    "        del self"
   ]
  },
  {
   "cell_type": "code",
   "execution_count": 171,
   "id": "847aa1ba",
   "metadata": {},
   "outputs": [],
   "source": [
    "ob=car()"
   ]
  },
  {
   "cell_type": "code",
   "execution_count": 172,
   "id": "aad0f994",
   "metadata": {},
   "outputs": [
    {
     "data": {
      "text/plain": [
       "'manish'"
      ]
     },
     "execution_count": 172,
     "metadata": {},
     "output_type": "execute_result"
    }
   ],
   "source": [
    "ob.name"
   ]
  },
  {
   "cell_type": "code",
   "execution_count": 173,
   "id": "2f14a819",
   "metadata": {},
   "outputs": [
    {
     "name": "stdout",
     "output_type": "stream",
     "text": [
      "deleting object\n"
     ]
    }
   ],
   "source": [
    "del ob"
   ]
  },
  {
   "cell_type": "code",
   "execution_count": 167,
   "id": "3ed53b95",
   "metadata": {},
   "outputs": [
    {
     "data": {
      "text/plain": [
       "'python'"
      ]
     },
     "execution_count": 167,
     "metadata": {},
     "output_type": "execute_result"
    }
   ],
   "source": [
    "ob.course"
   ]
  },
  {
   "cell_type": "code",
   "execution_count": 168,
   "id": "2bafacc0",
   "metadata": {},
   "outputs": [
    {
     "name": "stdout",
     "output_type": "stream",
     "text": [
      "deleting object\n"
     ]
    }
   ],
   "source": [
    "del ob"
   ]
  },
  {
   "cell_type": "code",
   "execution_count": 169,
   "id": "a70e0437",
   "metadata": {},
   "outputs": [
    {
     "ename": "NameError",
     "evalue": "name 'ob' is not defined",
     "output_type": "error",
     "traceback": [
      "\u001b[1;31m---------------------------------------------------------------------------\u001b[0m",
      "\u001b[1;31mNameError\u001b[0m                                 Traceback (most recent call last)",
      "\u001b[1;32m~\\AppData\\Local\\Temp/ipykernel_13564/3879113439.py\u001b[0m in \u001b[0;36m<module>\u001b[1;34m\u001b[0m\n\u001b[1;32m----> 1\u001b[1;33m \u001b[0mob\u001b[0m\u001b[1;33m.\u001b[0m\u001b[0mname\u001b[0m\u001b[1;33m\u001b[0m\u001b[1;33m\u001b[0m\u001b[0m\n\u001b[0m",
      "\u001b[1;31mNameError\u001b[0m: name 'ob' is not defined"
     ]
    }
   ],
   "source": [
    "ob.name"
   ]
  },
  {
   "cell_type": "code",
   "execution_count": null,
   "id": "a6e6e14e",
   "metadata": {},
   "outputs": [],
   "source": []
  }
 ],
 "metadata": {
  "kernelspec": {
   "display_name": "Python 3 (ipykernel)",
   "language": "python",
   "name": "python3"
  },
  "language_info": {
   "codemirror_mode": {
    "name": "ipython",
    "version": 3
   },
   "file_extension": ".py",
   "mimetype": "text/x-python",
   "name": "python",
   "nbconvert_exporter": "python",
   "pygments_lexer": "ipython3",
   "version": "3.9.6"
  }
 },
 "nbformat": 4,
 "nbformat_minor": 5
}
