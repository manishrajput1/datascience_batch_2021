{
 "cells": [
  {
   "cell_type": "code",
   "execution_count": 1,
   "id": "577a72ef",
   "metadata": {},
   "outputs": [],
   "source": [
    "file=open('E:\\hitarth.txt',mode='w')"
   ]
  },
  {
   "cell_type": "code",
   "execution_count": 9,
   "id": "99d29fbf",
   "metadata": {},
   "outputs": [
    {
     "data": {
      "text/plain": [
       "<_io.TextIOWrapper name='E:\\\\hitarth.txt' mode='w' encoding='cp1252'>"
      ]
     },
     "execution_count": 9,
     "metadata": {},
     "output_type": "execute_result"
    }
   ],
   "source": [
    "file"
   ]
  },
  {
   "cell_type": "code",
   "execution_count": 10,
   "id": "2572d199",
   "metadata": {},
   "outputs": [
    {
     "data": {
      "text/plain": [
       "12"
      ]
     },
     "execution_count": 10,
     "metadata": {},
     "output_type": "execute_result"
    }
   ],
   "source": [
    "file.write('hello python')"
   ]
  },
  {
   "cell_type": "code",
   "execution_count": 11,
   "id": "56d878f3",
   "metadata": {},
   "outputs": [],
   "source": [
    "file.close()"
   ]
  },
  {
   "cell_type": "code",
   "execution_count": 12,
   "id": "95993fe8",
   "metadata": {},
   "outputs": [],
   "source": [
    "f=open('E:\\hitarth.txt',mode='r')"
   ]
  },
  {
   "cell_type": "code",
   "execution_count": 13,
   "id": "670affed",
   "metadata": {},
   "outputs": [
    {
     "name": "stdout",
     "output_type": "stream",
     "text": [
      "hello python\n"
     ]
    }
   ],
   "source": [
    "print(f.read())"
   ]
  },
  {
   "cell_type": "code",
   "execution_count": 14,
   "id": "68d3e99e",
   "metadata": {},
   "outputs": [],
   "source": [
    "#fname=input('ENter file name')\n",
    "#file=open(f'E:\\{fname}.txt')"
   ]
  },
  {
   "cell_type": "code",
   "execution_count": 16,
   "id": "00f1d8f2",
   "metadata": {},
   "outputs": [
    {
     "name": "stdout",
     "output_type": "stream",
     "text": [
      "hello manish\n"
     ]
    }
   ],
   "source": [
    "name='manish'\n",
    "print(f'hello {name}')"
   ]
  },
  {
   "cell_type": "code",
   "execution_count": 17,
   "id": "ed662325",
   "metadata": {},
   "outputs": [
    {
     "name": "stdout",
     "output_type": "stream",
     "text": [
      "hello manish\n"
     ]
    }
   ],
   "source": [
    "print('hello {}'.format(name))"
   ]
  },
  {
   "cell_type": "code",
   "execution_count": 19,
   "id": "9803307c",
   "metadata": {},
   "outputs": [
    {
     "name": "stdout",
     "output_type": "stream",
     "text": [
      "Enter student value: roll name sci math com\n",
      "Enter student value: 101 mann 90 78 67\n",
      "Enter student value: 102 shan 67 78 98\n",
      "Enter student value: 103 jeet 67 55 90\n",
      "Enter student value: 104 neha 65 66 44\n",
      "Enter student value: 105 rahu 90 98 88\n"
     ]
    }
   ],
   "source": [
    "file=open(f'E:\\student.txt',mode='w')\n",
    "for i in range(6):\n",
    "    d=input('Enter student value: ').split()\n",
    "    d='\\t'.join(d)\n",
    "    d=d+'\\n'\n",
    "    file.write(d)\n",
    "file.close()"
   ]
  },
  {
   "cell_type": "code",
   "execution_count": 20,
   "id": "aeb15bf8",
   "metadata": {},
   "outputs": [],
   "source": [
    "file=open(f'E:\\student.txt',mode='r')"
   ]
  },
  {
   "cell_type": "code",
   "execution_count": 21,
   "id": "96f7e036",
   "metadata": {},
   "outputs": [],
   "source": [
    "data=file.read()"
   ]
  },
  {
   "cell_type": "code",
   "execution_count": 22,
   "id": "577d11a2",
   "metadata": {},
   "outputs": [
    {
     "name": "stdout",
     "output_type": "stream",
     "text": [
      "roll\tname\tsci\tmath\tcom\n",
      "101\tmann\t90\t78\t67\n",
      "102\tshan\t67\t78\t98\n",
      "103\tjeet\t67\t55\t90\n",
      "104\tneha\t65\t66\t44\n",
      "105\trahu\t90\t98\t88\n",
      "\n"
     ]
    }
   ],
   "source": [
    "print(data)"
   ]
  },
  {
   "cell_type": "code",
   "execution_count": 23,
   "id": "e176c293",
   "metadata": {},
   "outputs": [
    {
     "name": "stdout",
     "output_type": "stream",
     "text": [
      "'roll\\tname\\tsci\\tmath\\tcom\\n101\\tmann\\t90\\t78\\t67\\n102\\tshan\\t67\\t78\\t98\\n103\\tjeet\\t67\\t55\\t90\\n104\\tneha\\t65\\t66\\t44\\n105\\trahu\\t90\\t98\\t88\\n'\n"
     ]
    }
   ],
   "source": [
    "print(repr(data))"
   ]
  },
  {
   "cell_type": "code",
   "execution_count": 24,
   "id": "612802ad",
   "metadata": {},
   "outputs": [],
   "source": [
    "res=data.split('\\n')"
   ]
  },
  {
   "cell_type": "code",
   "execution_count": 25,
   "id": "f89dcbf9",
   "metadata": {},
   "outputs": [
    {
     "name": "stdout",
     "output_type": "stream",
     "text": [
      "['roll\\tname\\tsci\\tmath\\tcom', '101\\tmann\\t90\\t78\\t67', '102\\tshan\\t67\\t78\\t98', '103\\tjeet\\t67\\t55\\t90', '104\\tneha\\t65\\t66\\t44', '105\\trahu\\t90\\t98\\t88', '']\n"
     ]
    }
   ],
   "source": [
    "print(repr(res))"
   ]
  },
  {
   "cell_type": "code",
   "execution_count": 26,
   "id": "873452b0",
   "metadata": {},
   "outputs": [
    {
     "data": {
      "text/plain": [
       "'roll\\tname\\tsci\\tmath\\tcom'"
      ]
     },
     "execution_count": 26,
     "metadata": {},
     "output_type": "execute_result"
    }
   ],
   "source": [
    "res[0]"
   ]
  },
  {
   "cell_type": "code",
   "execution_count": 27,
   "id": "f6896256",
   "metadata": {},
   "outputs": [
    {
     "data": {
      "text/plain": [
       "'101\\tmann\\t90\\t78\\t67'"
      ]
     },
     "execution_count": 27,
     "metadata": {},
     "output_type": "execute_result"
    }
   ],
   "source": [
    "res[1]"
   ]
  },
  {
   "cell_type": "code",
   "execution_count": 28,
   "id": "a8748c46",
   "metadata": {},
   "outputs": [
    {
     "data": {
      "text/plain": [
       "'102\\tshan\\t67\\t78\\t98'"
      ]
     },
     "execution_count": 28,
     "metadata": {},
     "output_type": "execute_result"
    }
   ],
   "source": [
    "res[2]"
   ]
  },
  {
   "cell_type": "code",
   "execution_count": 29,
   "id": "216b8c5b",
   "metadata": {},
   "outputs": [],
   "source": [
    "res=res[:-1]"
   ]
  },
  {
   "cell_type": "code",
   "execution_count": 30,
   "id": "c353e6f4",
   "metadata": {},
   "outputs": [
    {
     "name": "stdout",
     "output_type": "stream",
     "text": [
      "['roll\\tname\\tsci\\tmath\\tcom', '101\\tmann\\t90\\t78\\t67', '102\\tshan\\t67\\t78\\t98', '103\\tjeet\\t67\\t55\\t90', '104\\tneha\\t65\\t66\\t44', '105\\trahu\\t90\\t98\\t88']\n"
     ]
    }
   ],
   "source": [
    "print(repr(res))"
   ]
  },
  {
   "cell_type": "code",
   "execution_count": 31,
   "id": "6c5400a5",
   "metadata": {},
   "outputs": [],
   "source": [
    "head=res[0]"
   ]
  },
  {
   "cell_type": "code",
   "execution_count": 32,
   "id": "c7ce4010",
   "metadata": {},
   "outputs": [
    {
     "data": {
      "text/plain": [
       "'roll\\tname\\tsci\\tmath\\tcom'"
      ]
     },
     "execution_count": 32,
     "metadata": {},
     "output_type": "execute_result"
    }
   ],
   "source": [
    "head"
   ]
  },
  {
   "cell_type": "code",
   "execution_count": 33,
   "id": "24a073db",
   "metadata": {},
   "outputs": [],
   "source": [
    "analysis=res[1:]"
   ]
  },
  {
   "cell_type": "code",
   "execution_count": 34,
   "id": "a8315737",
   "metadata": {},
   "outputs": [
    {
     "data": {
      "text/plain": [
       "['101\\tmann\\t90\\t78\\t67',\n",
       " '102\\tshan\\t67\\t78\\t98',\n",
       " '103\\tjeet\\t67\\t55\\t90',\n",
       " '104\\tneha\\t65\\t66\\t44',\n",
       " '105\\trahu\\t90\\t98\\t88']"
      ]
     },
     "execution_count": 34,
     "metadata": {},
     "output_type": "execute_result"
    }
   ],
   "source": [
    "analysis"
   ]
  },
  {
   "cell_type": "code",
   "execution_count": 47,
   "id": "16d73c69",
   "metadata": {},
   "outputs": [
    {
     "name": "stdout",
     "output_type": "stream",
     "text": [
      "['101', 'mann', '90', '78', '67', '78']\n",
      "['102', 'shan', '67', '78', '98', '81']\n",
      "['103', 'jeet', '67', '55', '90', '70']\n",
      "['104', 'neha', '65', '66', '44', '58']\n",
      "['105', 'rahu', '90', '98', '88', '92']\n"
     ]
    }
   ],
   "source": [
    "result=[]\n",
    "for i in analysis:\n",
    "    i=i.split('\\t')\n",
    "    p=sum(map(int,i[2:]))//3\n",
    "    p=str(p)\n",
    "    i.append(p)\n",
    "    print(repr(i))\n",
    "    d='\\t'.join(i)\n",
    "    result.append(d)\n",
    "    "
   ]
  },
  {
   "cell_type": "code",
   "execution_count": 48,
   "id": "e40ba01a",
   "metadata": {},
   "outputs": [
    {
     "name": "stdout",
     "output_type": "stream",
     "text": [
      "['101\\tmann\\t90\\t78\\t67\\t78', '102\\tshan\\t67\\t78\\t98\\t81', '103\\tjeet\\t67\\t55\\t90\\t70', '104\\tneha\\t65\\t66\\t44\\t58', '105\\trahu\\t90\\t98\\t88\\t92']\n"
     ]
    }
   ],
   "source": [
    "print(result)"
   ]
  },
  {
   "cell_type": "code",
   "execution_count": 49,
   "id": "c05439e9",
   "metadata": {},
   "outputs": [],
   "source": [
    "final='\\n'.join(result)"
   ]
  },
  {
   "cell_type": "code",
   "execution_count": 50,
   "id": "a5448ff4",
   "metadata": {},
   "outputs": [
    {
     "name": "stdout",
     "output_type": "stream",
     "text": [
      "101\tmann\t90\t78\t67\t78\n",
      "102\tshan\t67\t78\t98\t81\n",
      "103\tjeet\t67\t55\t90\t70\n",
      "104\tneha\t65\t66\t44\t58\n",
      "105\trahu\t90\t98\t88\t92\n"
     ]
    }
   ],
   "source": [
    "print(final)"
   ]
  },
  {
   "cell_type": "code",
   "execution_count": 52,
   "id": "3e331b55",
   "metadata": {},
   "outputs": [],
   "source": [
    "head=head+'\\tpercent\\n'"
   ]
  },
  {
   "cell_type": "code",
   "execution_count": 53,
   "id": "631258b7",
   "metadata": {},
   "outputs": [],
   "source": [
    "final_res=head+final"
   ]
  },
  {
   "cell_type": "code",
   "execution_count": 54,
   "id": "84fe135f",
   "metadata": {},
   "outputs": [
    {
     "name": "stdout",
     "output_type": "stream",
     "text": [
      "roll\tname\tsci\tmath\tcom\tpercent\n",
      "101\tmann\t90\t78\t67\t78\n",
      "102\tshan\t67\t78\t98\t81\n",
      "103\tjeet\t67\t55\t90\t70\n",
      "104\tneha\t65\t66\t44\t58\n",
      "105\trahu\t90\t98\t88\t92\n"
     ]
    }
   ],
   "source": [
    "print(final_res)"
   ]
  },
  {
   "cell_type": "code",
   "execution_count": null,
   "id": "d04e75ad",
   "metadata": {},
   "outputs": [],
   "source": [
    " "
   ]
  }
 ],
 "metadata": {
  "kernelspec": {
   "display_name": "Python 3 (ipykernel)",
   "language": "python",
   "name": "python3"
  },
  "language_info": {
   "codemirror_mode": {
    "name": "ipython",
    "version": 3
   },
   "file_extension": ".py",
   "mimetype": "text/x-python",
   "name": "python",
   "nbconvert_exporter": "python",
   "pygments_lexer": "ipython3",
   "version": "3.9.6"
  }
 },
 "nbformat": 4,
 "nbformat_minor": 5
}
