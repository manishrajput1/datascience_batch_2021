{
 "cells": [
  {
   "cell_type": "code",
   "execution_count": 45,
   "id": "82852e79",
   "metadata": {},
   "outputs": [],
   "source": [
    "path='C:\\\\Users\\\\rmani\\\\Desktop\\\\student.txt'\n",
    "file=open(path)"
   ]
  },
  {
   "cell_type": "code",
   "execution_count": 6,
   "id": "9be711f0",
   "metadata": {},
   "outputs": [
    {
     "data": {
      "text/plain": [
       "<_io.TextIOWrapper name='C:\\\\Users\\\\rmani\\\\Desktop\\\\student.txt' mode='r' encoding='cp1252'>"
      ]
     },
     "execution_count": 6,
     "metadata": {},
     "output_type": "execute_result"
    }
   ],
   "source": [
    "file"
   ]
  },
  {
   "cell_type": "code",
   "execution_count": 7,
   "id": "c0bafa86",
   "metadata": {},
   "outputs": [],
   "source": [
    "data=file.read()"
   ]
  },
  {
   "cell_type": "code",
   "execution_count": 8,
   "id": "b47ef427",
   "metadata": {},
   "outputs": [
    {
     "name": "stdout",
     "output_type": "stream",
     "text": [
      "roll\tname\teng\tmath\tsci\n",
      "101\tjeet\t90\t87\t67\n",
      "102\tshan\t56\t67\t90\n",
      "103\tmann\t45\t88\t76\n"
     ]
    }
   ],
   "source": [
    "print(data)"
   ]
  },
  {
   "cell_type": "code",
   "execution_count": 9,
   "id": "d242cb22",
   "metadata": {},
   "outputs": [
    {
     "name": "stdout",
     "output_type": "stream",
     "text": [
      "'roll\\tname\\teng\\tmath\\tsci\\n101\\tjeet\\t90\\t87\\t67\\n102\\tshan\\t56\\t67\\t90\\n103\\tmann\\t45\\t88\\t76'\n"
     ]
    }
   ],
   "source": [
    "print(repr(data))"
   ]
  },
  {
   "cell_type": "code",
   "execution_count": 10,
   "id": "9c304015",
   "metadata": {},
   "outputs": [
    {
     "data": {
      "text/plain": [
       "str"
      ]
     },
     "execution_count": 10,
     "metadata": {},
     "output_type": "execute_result"
    }
   ],
   "source": [
    "type(data)"
   ]
  },
  {
   "cell_type": "code",
   "execution_count": 11,
   "id": "f06363e3",
   "metadata": {},
   "outputs": [],
   "source": [
    "res=data.split('\\n')"
   ]
  },
  {
   "cell_type": "code",
   "execution_count": 12,
   "id": "c7399f1b",
   "metadata": {},
   "outputs": [
    {
     "name": "stdout",
     "output_type": "stream",
     "text": [
      "['roll\\tname\\teng\\tmath\\tsci', '101\\tjeet\\t90\\t87\\t67', '102\\tshan\\t56\\t67\\t90', '103\\tmann\\t45\\t88\\t76']\n"
     ]
    }
   ],
   "source": [
    "print(repr(res))"
   ]
  },
  {
   "cell_type": "code",
   "execution_count": 15,
   "id": "c791345d",
   "metadata": {},
   "outputs": [],
   "source": [
    "d=res[1:4]"
   ]
  },
  {
   "cell_type": "code",
   "execution_count": 16,
   "id": "84a6b0b6",
   "metadata": {},
   "outputs": [
    {
     "name": "stdout",
     "output_type": "stream",
     "text": [
      "['101\\tjeet\\t90\\t87\\t67', '102\\tshan\\t56\\t67\\t90', '103\\tmann\\t45\\t88\\t76']\n"
     ]
    }
   ],
   "source": [
    "print(repr(d))"
   ]
  },
  {
   "cell_type": "code",
   "execution_count": 17,
   "id": "725fd89a",
   "metadata": {},
   "outputs": [],
   "source": [
    "head=res[0]"
   ]
  },
  {
   "cell_type": "code",
   "execution_count": 18,
   "id": "66d4bc07",
   "metadata": {},
   "outputs": [
    {
     "data": {
      "text/plain": [
       "'roll\\tname\\teng\\tmath\\tsci'"
      ]
     },
     "execution_count": 18,
     "metadata": {},
     "output_type": "execute_result"
    }
   ],
   "source": [
    "head"
   ]
  },
  {
   "cell_type": "code",
   "execution_count": 19,
   "id": "83e887bb",
   "metadata": {},
   "outputs": [
    {
     "data": {
      "text/plain": [
       "['101\\tjeet\\t90\\t87\\t67', '102\\tshan\\t56\\t67\\t90', '103\\tmann\\t45\\t88\\t76']"
      ]
     },
     "execution_count": 19,
     "metadata": {},
     "output_type": "execute_result"
    }
   ],
   "source": [
    "d"
   ]
  },
  {
   "cell_type": "code",
   "execution_count": 33,
   "id": "555839b7",
   "metadata": {},
   "outputs": [
    {
     "name": "stdout",
     "output_type": "stream",
     "text": [
      "'101\\tjeet\\t90\\t87\\t67\\t81'\n",
      "'102\\tshan\\t56\\t67\\t90\\t71'\n",
      "'103\\tmann\\t45\\t88\\t76\\t69'\n"
     ]
    }
   ],
   "source": [
    "re=[]\n",
    "for i in d:\n",
    "    j=i.split('\\t')\n",
    "    s=(sum(map(int,j[2:]))//3)\n",
    "    s=str(s)\n",
    "    j.append(s)\n",
    "    result='\\t'.join(j)\n",
    "    re.append(result)\n",
    "    print(repr(result))"
   ]
  },
  {
   "cell_type": "code",
   "execution_count": 34,
   "id": "4e4e36a2",
   "metadata": {},
   "outputs": [
    {
     "data": {
      "text/plain": [
       "['101\\tjeet\\t90\\t87\\t67\\t81',\n",
       " '102\\tshan\\t56\\t67\\t90\\t71',\n",
       " '103\\tmann\\t45\\t88\\t76\\t69']"
      ]
     },
     "execution_count": 34,
     "metadata": {},
     "output_type": "execute_result"
    }
   ],
   "source": [
    "re"
   ]
  },
  {
   "cell_type": "code",
   "execution_count": 35,
   "id": "9f7380b4",
   "metadata": {},
   "outputs": [
    {
     "name": "stdout",
     "output_type": "stream",
     "text": [
      "['101\\tjeet\\t90\\t87\\t67\\t81', '102\\tshan\\t56\\t67\\t90\\t71', '103\\tmann\\t45\\t88\\t76\\t69']\n"
     ]
    }
   ],
   "source": [
    "print(re)"
   ]
  },
  {
   "cell_type": "code",
   "execution_count": 36,
   "id": "23f3d38f",
   "metadata": {},
   "outputs": [],
   "source": [
    "final='\\n'.join(re)"
   ]
  },
  {
   "cell_type": "code",
   "execution_count": 37,
   "id": "e9b448ff",
   "metadata": {},
   "outputs": [
    {
     "name": "stdout",
     "output_type": "stream",
     "text": [
      "101\tjeet\t90\t87\t67\t81\n",
      "102\tshan\t56\t67\t90\t71\n",
      "103\tmann\t45\t88\t76\t69\n"
     ]
    }
   ],
   "source": [
    "print(final)"
   ]
  },
  {
   "cell_type": "code",
   "execution_count": 38,
   "id": "4421434a",
   "metadata": {},
   "outputs": [
    {
     "data": {
      "text/plain": [
       "'roll\\tname\\teng\\tmath\\tsci'"
      ]
     },
     "execution_count": 38,
     "metadata": {},
     "output_type": "execute_result"
    }
   ],
   "source": [
    "head"
   ]
  },
  {
   "cell_type": "code",
   "execution_count": 39,
   "id": "1d71f3d4",
   "metadata": {},
   "outputs": [],
   "source": [
    "head=head+'\\tpercent\\n'"
   ]
  },
  {
   "cell_type": "code",
   "execution_count": 40,
   "id": "3720c07f",
   "metadata": {},
   "outputs": [],
   "source": [
    "final_result=head+final"
   ]
  },
  {
   "cell_type": "code",
   "execution_count": 41,
   "id": "53f47b81",
   "metadata": {},
   "outputs": [
    {
     "name": "stdout",
     "output_type": "stream",
     "text": [
      "roll\tname\teng\tmath\tsci\tpercent\n",
      "101\tjeet\t90\t87\t67\t81\n",
      "102\tshan\t56\t67\t90\t71\n",
      "103\tmann\t45\t88\t76\t69\n"
     ]
    }
   ],
   "source": [
    "print(final_result)"
   ]
  },
  {
   "cell_type": "code",
   "execution_count": 42,
   "id": "b694edee",
   "metadata": {},
   "outputs": [
    {
     "name": "stdout",
     "output_type": "stream",
     "text": [
      "'roll\\tname\\teng\\tmath\\tsci\\tpercent\\n101\\tjeet\\t90\\t87\\t67\\t81\\n102\\tshan\\t56\\t67\\t90\\t71\\n103\\tmann\\t45\\t88\\t76\\t69'\n"
     ]
    }
   ],
   "source": [
    "print(repr(final_result))"
   ]
  },
  {
   "cell_type": "code",
   "execution_count": 43,
   "id": "01fbe52c",
   "metadata": {},
   "outputs": [],
   "source": [
    "# fetchig result"
   ]
  },
  {
   "cell_type": "code",
   "execution_count": 46,
   "id": "d257851a",
   "metadata": {},
   "outputs": [],
   "source": [
    "import os\n",
    "filename=os.path.basename(path)\n",
    "dirname=os.path.dirname(path)"
   ]
  },
  {
   "cell_type": "code",
   "execution_count": 47,
   "id": "1e165c99",
   "metadata": {},
   "outputs": [
    {
     "data": {
      "text/plain": [
       "'student.txt'"
      ]
     },
     "execution_count": 47,
     "metadata": {},
     "output_type": "execute_result"
    }
   ],
   "source": [
    "filename"
   ]
  },
  {
   "cell_type": "code",
   "execution_count": 48,
   "id": "0d6e927e",
   "metadata": {},
   "outputs": [],
   "source": [
    "filename=filename.split('.')"
   ]
  },
  {
   "cell_type": "code",
   "execution_count": 49,
   "id": "850812b3",
   "metadata": {},
   "outputs": [
    {
     "data": {
      "text/plain": [
       "['student', 'txt']"
      ]
     },
     "execution_count": 49,
     "metadata": {},
     "output_type": "execute_result"
    }
   ],
   "source": [
    "filename"
   ]
  },
  {
   "cell_type": "code",
   "execution_count": 50,
   "id": "2818b451",
   "metadata": {},
   "outputs": [],
   "source": [
    "newpath=filename[0]+'_result.'+filename[1]"
   ]
  },
  {
   "cell_type": "code",
   "execution_count": 51,
   "id": "ac785ef0",
   "metadata": {},
   "outputs": [
    {
     "name": "stdout",
     "output_type": "stream",
     "text": [
      "student_result.txt\n"
     ]
    }
   ],
   "source": [
    "print(newpath)"
   ]
  },
  {
   "cell_type": "code",
   "execution_count": 54,
   "id": "7ec5a617",
   "metadata": {},
   "outputs": [],
   "source": [
    "compath=dirname+'\\\\'+newpath"
   ]
  },
  {
   "cell_type": "code",
   "execution_count": 55,
   "id": "4b42b6f9",
   "metadata": {},
   "outputs": [
    {
     "data": {
      "text/plain": [
       "'C:\\\\Users\\\\rmani\\\\Desktop\\\\student_result.txt'"
      ]
     },
     "execution_count": 55,
     "metadata": {},
     "output_type": "execute_result"
    }
   ],
   "source": [
    "compath"
   ]
  },
  {
   "cell_type": "code",
   "execution_count": 56,
   "id": "2a84f03d",
   "metadata": {},
   "outputs": [],
   "source": [
    "f=open(compath,'w')\n",
    "f.write(final_result)\n",
    "f.close()"
   ]
  },
  {
   "cell_type": "code",
   "execution_count": 2,
   "id": "0f026835",
   "metadata": {},
   "outputs": [],
   "source": [
    "data=open('C:\\\\Users\\\\rmani\\\\Desktop\\\\student_result.txt')\n",
    "data=data.read()"
   ]
  },
  {
   "cell_type": "code",
   "execution_count": 3,
   "id": "873d1f5c",
   "metadata": {},
   "outputs": [
    {
     "name": "stdout",
     "output_type": "stream",
     "text": [
      "roll\tname\teng\tmath\tsci\tpercent\n",
      "101\tjeet\t90\t87\t67\t81\n",
      "102\tshan\t56\t67\t90\t71\n",
      "103\tmann\t45\t88\t76\t69\n"
     ]
    }
   ],
   "source": [
    "print(data)"
   ]
  },
  {
   "cell_type": "code",
   "execution_count": 4,
   "id": "6eedac4b",
   "metadata": {},
   "outputs": [
    {
     "name": "stdout",
     "output_type": "stream",
     "text": [
      "'roll\\tname\\teng\\tmath\\tsci\\tpercent\\n101\\tjeet\\t90\\t87\\t67\\t81\\n102\\tshan\\t56\\t67\\t90\\t71\\n103\\tmann\\t45\\t88\\t76\\t69'\n"
     ]
    }
   ],
   "source": [
    "print(repr(data))"
   ]
  },
  {
   "cell_type": "code",
   "execution_count": 5,
   "id": "17b3e077",
   "metadata": {},
   "outputs": [],
   "source": [
    "r=data.split('\\n')"
   ]
  },
  {
   "cell_type": "code",
   "execution_count": 6,
   "id": "46506fe6",
   "metadata": {},
   "outputs": [
    {
     "name": "stdout",
     "output_type": "stream",
     "text": [
      "['roll\\tname\\teng\\tmath\\tsci\\tpercent', '101\\tjeet\\t90\\t87\\t67\\t81', '102\\tshan\\t56\\t67\\t90\\t71', '103\\tmann\\t45\\t88\\t76\\t69']\n"
     ]
    }
   ],
   "source": [
    "print(repr(r))"
   ]
  },
  {
   "cell_type": "code",
   "execution_count": 80,
   "id": "c4095853",
   "metadata": {},
   "outputs": [
    {
     "name": "stdout",
     "output_type": "stream",
     "text": [
      "Enter your roll number: 103\n",
      "\n",
      "\n",
      "               roll\tname\teng\tmath\tsci\tpercent               \n",
      "\n",
      "               103\tmann\t45\t88\t76\t69               \n",
      "                                    Grade C                                     \n"
     ]
    }
   ],
   "source": [
    "roll=input('Enter your roll number: ')\n",
    "for i in r[1:]:\n",
    "    j=i.split('\\t')\n",
    "    if roll==j[0]:\n",
    "        print()\n",
    "        print()\n",
    "        print(r[0].center(60))\n",
    "        print()\n",
    "        print(i.center(50))\n",
    "        per=j[-1]\n",
    "        per=int(per)\n",
    "        if per>90:\n",
    "\n",
    "            print('Grade A'.center(80))\n",
    "        elif per>70:\n",
    "            print('Grade B'.center(80))\n",
    "        elif per>40:\n",
    "            print('Grade C'.center(80))\n",
    "        else:\n",
    "            print('Grade F'.center(80))            "
   ]
  },
  {
   "cell_type": "code",
   "execution_count": 9,
   "id": "3e5d53ec",
   "metadata": {},
   "outputs": [
    {
     "name": "stdout",
     "output_type": "stream",
     "text": [
      "Enter your roll number: 102\n",
      "\n",
      "\n"
     ]
    }
   ],
   "source": [
    "result=open('C:\\\\Users\\\\rmani\\\\Desktop\\\\result_card.html','w')\n",
    "roll=input('Enter your roll number: ')\n",
    "for i in r[1:]:\n",
    "    j=i.split('\\t')\n",
    "    if roll==j[0]:\n",
    "        print()\n",
    "        print()\n",
    "        result.write('''<html>\n",
    "<head>\n",
    "<link href=\"https://cdn.jsdelivr.net/npm/bootstrap@5.1.0/dist/css/bootstrap.min.css\" rel=\"stylesheet\" integrity=\"sha384-KyZXEAg3QhqLMpG8r+8fhAXLRk2vvoC2f3B09zVXn8CA5QIVfZOJ3BCsw2P0p/We\" crossorigin=\"anonymous\">\n",
    "</head>\n",
    "<body>\n",
    "<h1 style='text-align:center;color:red'>SILVER OAK</H1>\n",
    "<br>\n",
    "<hr>\n",
    "\n",
    "<table class=\"table\">\n",
    "  <thead>\n",
    "    <tr>\n",
    "      <th scope=\"col\">Roll No</th>\n",
    "      <th scope=\"col\">Name</th>\n",
    "      <th scope=\"col\">Math</th>\n",
    "      <th scope=\"col\">Science</th>\n",
    "      <th scope=\"col\">Computer</th>\n",
    "      <th scope=\"col\">percent</th>\n",
    "\n",
    "    </tr>\n",
    "  </thead>\n",
    "  <tbody>\n",
    "    <tr>\n",
    "      <th scope=\"row\">f'{i[0]}'</th>\n",
    "      <td>{{i[1]}}</td>\n",
    "      <td>f'{i[2]}'</td>\n",
    "      <td>f'{i[3]}'</td>\n",
    "\t<td>f'{i[4]}'</td>\n",
    "\t<td>f'{i[5]}'</td>\n",
    "    </tr>\n",
    "  </tbody>\n",
    "</table>\n",
    "<br>\n",
    "<h2 style='text-align:center;'>grade</h2>\n",
    "\n",
    "</body>\n",
    "</html>''')\n",
    "        '''print(r[0].center(60))\n",
    "        print()\n",
    "        print(i.center(50))\n",
    "        per=j[-1]\n",
    "        per=int(per)\n",
    "        if per>90:\n",
    "\n",
    "            print('Grade A'.center(80))\n",
    "        elif per>70:\n",
    "            print('Grade B'.center(80))\n",
    "        elif per>40:\n",
    "            print('Grade C'.center(80))\n",
    "        else:\n",
    "            print('Grade F'.center(80)) '''\n",
    "result.close()"
   ]
  },
  {
   "cell_type": "code",
   "execution_count": null,
   "id": "295cd9f2",
   "metadata": {},
   "outputs": [],
   "source": []
  }
 ],
 "metadata": {
  "kernelspec": {
   "display_name": "Python 3 (ipykernel)",
   "language": "python",
   "name": "python3"
  },
  "language_info": {
   "codemirror_mode": {
    "name": "ipython",
    "version": 3
   },
   "file_extension": ".py",
   "mimetype": "text/x-python",
   "name": "python",
   "nbconvert_exporter": "python",
   "pygments_lexer": "ipython3",
   "version": "3.9.6"
  }
 },
 "nbformat": 4,
 "nbformat_minor": 5
}
